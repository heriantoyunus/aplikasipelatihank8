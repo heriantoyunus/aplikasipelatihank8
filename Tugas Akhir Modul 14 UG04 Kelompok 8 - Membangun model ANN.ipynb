{
 "cells": [
  {
   "cell_type": "markdown",
   "metadata": {
    "id": "7dnuNpwJkN1h"
   },
   "source": [
    "# TUGAS AKHIR MODUL 14 : Membangun Model ANN\n",
    "# Kelas UG04 Kelompok 8\n",
    "1.\t05124873131-20/Herianto\n",
    "2.\t05124873011-21/Dinaroe\n",
    "3.\t05124873181-3/Fadhli Dzil Ikram\n",
    "\n",
    "Judul Tugas Akhir :\n",
    "**Upaya Meningkatkan Jumlah Mahasiswa Aktif di Perguruan Tinggi Swasta dengan Cara Membangun Sistem Untuk Mengidentifikasi Sedini Mungkin Calon Mahasiswa Baru atau Mahasiswa Lama Yang Berpotensi Keluar**\n",
    "\n",
    "Sumber dataset : **Database Sistem Akademik Universitas Darma Persada Jakarta**"
   ]
  },
  {
   "cell_type": "markdown",
   "metadata": {
    "id": "wgRfUxh232lI"
   },
   "source": [
    "Dataset yang digunakan dalam Notebook ini adalah dataset daftar calon mahasiswa dari database akademik yang sebelumnya sudah dilakukan beberapa proses di tahap data preparation\n",
    "Dataset dapat di-load dengan potongan kode di bawah:"
   ]
  },
  {
   "cell_type": "code",
   "execution_count": 41,
   "metadata": {},
   "outputs": [
    {
     "data": {
      "text/plain": [
       "array([[0.5       , 0.        , 0.85714286, 0.3       , 0.95906038],\n",
       "       [0.5       , 0.        , 0.        , 0.3       , 0.95906038],\n",
       "       [0.5       , 0.        , 0.42857143, 0.3       , 0.95906038],\n",
       "       ...,\n",
       "       [0.5       , 0.        , 0.14285714, 0.2       , 0.86923804],\n",
       "       [0.5       , 0.        , 0.        , 0.3       , 0.86923804],\n",
       "       [0.5       , 0.        , 0.14285714, 0.3       , 0.86923804]])"
      ]
     },
     "execution_count": 41,
     "metadata": {},
     "output_type": "execute_result"
    }
   ],
   "source": [
    "import pandas as pd\n",
    "from sklearn import datasets\n",
    "from sklearn.model_selection import train_test_split\n",
    "from sklearn.preprocessing import MinMaxScaler\n",
    "\n",
    "df_klasifikasi=pd.read_csv(\"..\\dataset\\dataset_pendaftar_clean_klasifikasi.csv\")\n",
    "#Featureg\n",
    "Xy=df_klasifikasi[['sedang_promo','sedang_ptn','idjenissekolah','idpend_ayah','ekonomi_nasional','isdaftarulang']]\n",
    "X=df_klasifikasi[['sedang_promo','sedang_ptn','idjenissekolah','idpend_ayah','ekonomi_nasional']]\n",
    "scale = MinMaxScaler()\n",
    "X = scale.fit_transform(X)\n",
    "\n",
    "#Target\n",
    "y=df_klasifikasi['isdaftarulang']\n",
    "Xy\n",
    "X"
   ]
  },
  {
   "cell_type": "code",
   "execution_count": 42,
   "metadata": {},
   "outputs": [
    {
     "name": "stdout",
     "output_type": "stream",
     "text": [
      "X_train (5688, 5)\n",
      "X_val (1004, 5)\n",
      "X_test (744, 5)\n"
     ]
    }
   ],
   "source": [
    "X_train, X_test, Y_train, Y_test = train_test_split(X, y, test_size=.10)\n",
    "X_train, X_val, Y_train, Y_val = train_test_split(X_train, Y_train, test_size=.15)\n",
    "print('X_train', X_train.shape)\n",
    "print('X_val', X_val.shape)\n",
    "print('X_test', X_test.shape)"
   ]
  },
  {
   "cell_type": "code",
   "execution_count": 43,
   "metadata": {},
   "outputs": [
    {
     "name": "stdout",
     "output_type": "stream",
     "text": [
      "0       1\n",
      "1       0\n",
      "2       1\n",
      "3       0\n",
      "4       1\n",
      "       ..\n",
      "7431    0\n",
      "7432    0\n",
      "7433    0\n",
      "7434    0\n",
      "7435    0\n",
      "Name: isdaftarulang, Length: 7436, dtype: int64\n"
     ]
    }
   ],
   "source": [
    "print(y)"
   ]
  },
  {
   "cell_type": "code",
   "execution_count": 44,
   "metadata": {},
   "outputs": [],
   "source": [
    "from sklearn.neural_network import MLPClassifier\n",
    "\n",
    "mlp = MLPClassifier(hidden_layer_sizes=(64, ), activation='relu',max_iter=1000, epsilon=1e-08)"
   ]
  },
  {
   "cell_type": "code",
   "execution_count": 45,
   "metadata": {},
   "outputs": [
    {
     "name": "stdout",
     "output_type": "stream",
     "text": [
      "Akurasi Validasi Training ANN: 0.8376494023904383\n"
     ]
    }
   ],
   "source": [
    "from sklearn.metrics import accuracy_score\n",
    "\n",
    "mlp.fit(X_train, Y_train)\n",
    "prediksi_val = mlp.predict(X_val)\n",
    "acc_val = accuracy_score(Y_val, prediksi_val)\n",
    "print('Akurasi Validasi Training ANN:', acc_val)"
   ]
  },
  {
   "cell_type": "code",
   "execution_count": 46,
   "metadata": {},
   "outputs": [
    {
     "name": "stdout",
     "output_type": "stream",
     "text": [
      "Akurasi Testing ANN: 0.8172043010752689\n"
     ]
    }
   ],
   "source": [
    "prediksi_test = mlp.predict(X_test)\n",
    "acc_test = accuracy_score(Y_test, prediksi_test)\n",
    "print('Akurasi Testing ANN:', acc_test)"
   ]
  },
  {
   "cell_type": "code",
   "execution_count": 47,
   "metadata": {},
   "outputs": [
    {
     "name": "stdout",
     "output_type": "stream",
     "text": [
      "Akurasi Testing ANN: 0.8172043010752689\n"
     ]
    },
    {
     "data": {
      "image/png": "[encoded data removed]",
      "text/plain": [
       "<Figure size 432x288 with 2 Axes>"
      ]
     },
     "metadata": {
      "needs_background": "light"
     },
     "output_type": "display_data"
    }
   ],
   "source": [
    "from sklearn.metrics import accuracy_score, plot_confusion_matrix\n",
    "\n",
    "prediksi = mlp.predict(X_test)\n",
    "plot_confusion_matrix(mlp, X_test, Y_test)\n",
    "accuracy = accuracy_score(Y_test, prediksi)\n",
    "print('Akurasi Testing ANN:', accuracy)"
   ]
  },
  {
   "cell_type": "code",
   "execution_count": 48,
   "metadata": {},
   "outputs": [],
   "source": [
    "#from keras.utils import to_categorical\n",
    "from tensorflow.keras.utils import to_categorical\n",
    "\n",
    "Y_train = to_categorical(Y_train,2)\n",
    "Y_val = to_categorical(Y_val,2)\n",
    "Y_test = to_categorical(Y_test,2)"
   ]
  },
  {
   "cell_type": "code",
   "execution_count": 49,
   "metadata": {},
   "outputs": [],
   "source": [
    "from keras.models import Sequential\n",
    "from keras.layers import Flatten, Dense\n",
    "\n",
    "model = Sequential()\n",
    "model.add(Flatten())\n",
    "model.add(Dense(64,activation='relu'))\n",
    "model.add(Dense(2,activation='softmax'))\n",
    "\n",
    "model.compile(optimizer='adam',loss='categorical_crossentropy', metrics=['acc'])"
   ]
  },
  {
   "cell_type": "code",
   "execution_count": 50,
   "metadata": {
    "scrolled": false
   },
   "outputs": [
    {
     "name": "stdout",
     "output_type": "stream",
     "text": [
      "Epoch 1/100\n",
      "1138/1138 [==============================] - 3s 2ms/step - loss: 0.4986 - acc: 0.8010 - val_loss: 0.4911 - val_acc: 0.8058\n",
      "Epoch 2/100\n",
      "1138/1138 [==============================] - 2s 2ms/step - loss: 0.4871 - acc: 0.8073 - val_loss: 0.4875 - val_acc: 0.8058\n",
      "Epoch 3/100\n",
      "1138/1138 [==============================] - 2s 2ms/step - loss: 0.4827 - acc: 0.8073 - val_loss: 0.4918 - val_acc: 0.8058\n",
      "Epoch 4/100\n",
      "1138/1138 [==============================] - 2s 2ms/step - loss: 0.4782 - acc: 0.8073 - val_loss: 0.4794 - val_acc: 0.8058\n",
      "Epoch 5/100\n",
      "1138/1138 [==============================] - 3s 2ms/step - loss: 0.4737 - acc: 0.8073 - val_loss: 0.4775 - val_acc: 0.8058\n",
      "Epoch 6/100\n",
      "1138/1138 [==============================] - 3s 3ms/step - loss: 0.4675 - acc: 0.8073 - val_loss: 0.4705 - val_acc: 0.8058\n",
      "Epoch 7/100\n",
      "1138/1138 [==============================] - 3s 2ms/step - loss: 0.4619 - acc: 0.8073 - val_loss: 0.4663 - val_acc: 0.8058\n",
      "Epoch 8/100\n",
      "1138/1138 [==============================] - 3s 2ms/step - loss: 0.4575 - acc: 0.8073 - val_loss: 0.4592 - val_acc: 0.8058\n",
      "Epoch 9/100\n",
      "1138/1138 [==============================] - 2s 2ms/step - loss: 0.4532 - acc: 0.8073 - val_loss: 0.4566 - val_acc: 0.8058\n",
      "Epoch 10/100\n",
      "1138/1138 [==============================] - 2s 2ms/step - loss: 0.4479 - acc: 0.8073 - val_loss: 0.4544 - val_acc: 0.8058\n",
      "Epoch 11/100\n",
      "1138/1138 [==============================] - 2s 2ms/step - loss: 0.4456 - acc: 0.8073 - val_loss: 0.4487 - val_acc: 0.8058\n",
      "Epoch 12/100\n",
      "1138/1138 [==============================] - 2s 2ms/step - loss: 0.4422 - acc: 0.8073 - val_loss: 0.4518 - val_acc: 0.8058\n",
      "Epoch 13/100\n",
      "1138/1138 [==============================] - 2s 2ms/step - loss: 0.4384 - acc: 0.8073 - val_loss: 0.4507 - val_acc: 0.8058\n",
      "Epoch 14/100\n",
      "1138/1138 [==============================] - 2s 2ms/step - loss: 0.4358 - acc: 0.8073 - val_loss: 0.4373 - val_acc: 0.8058\n",
      "Epoch 15/100\n",
      "1138/1138 [==============================] - 2s 2ms/step - loss: 0.4325 - acc: 0.8077 - val_loss: 0.4358 - val_acc: 0.8058\n",
      "Epoch 16/100\n",
      "1138/1138 [==============================] - 2s 2ms/step - loss: 0.4305 - acc: 0.8078 - val_loss: 0.4327 - val_acc: 0.8058\n",
      "Epoch 17/100\n",
      "1138/1138 [==============================] - 2s 2ms/step - loss: 0.4286 - acc: 0.8128 - val_loss: 0.4308 - val_acc: 0.8058\n",
      "Epoch 18/100\n",
      "1138/1138 [==============================] - 2s 2ms/step - loss: 0.4264 - acc: 0.8180 - val_loss: 0.4288 - val_acc: 0.8088\n",
      "Epoch 19/100\n",
      "1138/1138 [==============================] - 2s 2ms/step - loss: 0.4246 - acc: 0.8219 - val_loss: 0.4274 - val_acc: 0.8257\n",
      "Epoch 20/100\n",
      "1138/1138 [==============================] - 2s 2ms/step - loss: 0.4234 - acc: 0.8244 - val_loss: 0.4314 - val_acc: 0.8367\n",
      "Epoch 21/100\n",
      "1138/1138 [==============================] - 2s 2ms/step - loss: 0.4222 - acc: 0.8270 - val_loss: 0.4355 - val_acc: 0.8376\n",
      "Epoch 22/100\n",
      "1138/1138 [==============================] - 2s 2ms/step - loss: 0.4198 - acc: 0.8284 - val_loss: 0.4231 - val_acc: 0.8367\n",
      "Epoch 23/100\n",
      "1138/1138 [==============================] - 2s 2ms/step - loss: 0.4206 - acc: 0.8291 - val_loss: 0.4242 - val_acc: 0.8376\n",
      "Epoch 24/100\n",
      "1138/1138 [==============================] - 2s 2ms/step - loss: 0.4199 - acc: 0.8288 - val_loss: 0.4229 - val_acc: 0.8376\n",
      "Epoch 25/100\n",
      "1138/1138 [==============================] - 2s 2ms/step - loss: 0.4199 - acc: 0.8296 - val_loss: 0.4229 - val_acc: 0.8357\n",
      "Epoch 26/100\n",
      "1138/1138 [==============================] - 2s 2ms/step - loss: 0.4182 - acc: 0.8298 - val_loss: 0.4229 - val_acc: 0.8367\n",
      "Epoch 27/100\n",
      "1138/1138 [==============================] - 2s 2ms/step - loss: 0.4188 - acc: 0.8312 - val_loss: 0.4208 - val_acc: 0.8376\n",
      "Epoch 28/100\n",
      "1138/1138 [==============================] - 2s 2ms/step - loss: 0.4182 - acc: 0.8305 - val_loss: 0.4492 - val_acc: 0.8396\n",
      "Epoch 29/100\n",
      "1138/1138 [==============================] - 2s 2ms/step - loss: 0.4190 - acc: 0.8309 - val_loss: 0.4301 - val_acc: 0.8376\n",
      "Epoch 30/100\n",
      "1138/1138 [==============================] - 2s 2ms/step - loss: 0.4172 - acc: 0.8305 - val_loss: 0.4196 - val_acc: 0.8376\n",
      "Epoch 31/100\n",
      "1138/1138 [==============================] - 2s 2ms/step - loss: 0.4183 - acc: 0.8307 - val_loss: 0.4190 - val_acc: 0.8376\n",
      "Epoch 32/100\n",
      "1138/1138 [==============================] - 2s 2ms/step - loss: 0.4182 - acc: 0.8305 - val_loss: 0.4210 - val_acc: 0.8376\n",
      "Epoch 33/100\n",
      "1138/1138 [==============================] - 2s 2ms/step - loss: 0.4179 - acc: 0.8303 - val_loss: 0.4233 - val_acc: 0.8327\n",
      "Epoch 34/100\n",
      "1138/1138 [==============================] - 2s 2ms/step - loss: 0.4182 - acc: 0.8312 - val_loss: 0.4230 - val_acc: 0.8376\n",
      "Epoch 35/100\n",
      "1138/1138 [==============================] - 2s 2ms/step - loss: 0.4176 - acc: 0.8303 - val_loss: 0.4232 - val_acc: 0.8376\n",
      "Epoch 36/100\n",
      "1138/1138 [==============================] - 2s 2ms/step - loss: 0.4170 - acc: 0.8305 - val_loss: 0.4205 - val_acc: 0.8376\n",
      "Epoch 37/100\n",
      "1138/1138 [==============================] - 2s 2ms/step - loss: 0.4183 - acc: 0.8307 - val_loss: 0.4190 - val_acc: 0.8376\n",
      "Epoch 38/100\n",
      "1138/1138 [==============================] - 2s 2ms/step - loss: 0.4181 - acc: 0.8314 - val_loss: 0.4196 - val_acc: 0.8376\n",
      "Epoch 39/100\n",
      "1138/1138 [==============================] - 2s 2ms/step - loss: 0.4172 - acc: 0.8307 - val_loss: 0.4242 - val_acc: 0.8376\n",
      "Epoch 40/100\n",
      "1138/1138 [==============================] - 2s 2ms/step - loss: 0.4166 - acc: 0.8302 - val_loss: 0.4187 - val_acc: 0.8376\n",
      "Epoch 41/100\n",
      "1138/1138 [==============================] - 2s 2ms/step - loss: 0.4175 - acc: 0.8305 - val_loss: 0.4206 - val_acc: 0.8376\n",
      "Epoch 42/100\n",
      "1138/1138 [==============================] - 2s 2ms/step - loss: 0.4165 - acc: 0.8310 - val_loss: 0.4197 - val_acc: 0.8376\n",
      "Epoch 43/100\n",
      "1138/1138 [==============================] - 2s 2ms/step - loss: 0.4170 - acc: 0.8303 - val_loss: 0.4191 - val_acc: 0.8376\n",
      "Epoch 44/100\n",
      "1138/1138 [==============================] - 2s 2ms/step - loss: 0.4172 - acc: 0.8309 - val_loss: 0.4208 - val_acc: 0.8376\n",
      "Epoch 45/100\n",
      "1138/1138 [==============================] - 2s 2ms/step - loss: 0.4164 - acc: 0.8310 - val_loss: 0.4199 - val_acc: 0.8376\n",
      "Epoch 46/100\n",
      "1138/1138 [==============================] - 2s 2ms/step - loss: 0.4167 - acc: 0.8307 - val_loss: 0.4229 - val_acc: 0.8376\n",
      "Epoch 47/100\n",
      "1138/1138 [==============================] - 2s 2ms/step - loss: 0.4166 - acc: 0.8314 - val_loss: 0.4231 - val_acc: 0.8376\n",
      "Epoch 48/100\n",
      "1138/1138 [==============================] - 2s 2ms/step - loss: 0.4176 - acc: 0.8314 - val_loss: 0.4201 - val_acc: 0.8376\n",
      "Epoch 49/100\n",
      "1138/1138 [==============================] - 2s 2ms/step - loss: 0.4169 - acc: 0.8298 - val_loss: 0.4209 - val_acc: 0.8376\n",
      "Epoch 50/100\n",
      "1138/1138 [==============================] - 2s 2ms/step - loss: 0.4168 - acc: 0.8309 - val_loss: 0.4247 - val_acc: 0.8376\n",
      "Epoch 51/100\n",
      "1138/1138 [==============================] - 2s 2ms/step - loss: 0.4161 - acc: 0.8307 - val_loss: 0.4185 - val_acc: 0.8376\n",
      "Epoch 52/100\n",
      "1138/1138 [==============================] - 2s 2ms/step - loss: 0.4170 - acc: 0.8305 - val_loss: 0.4265 - val_acc: 0.8386\n",
      "Epoch 53/100\n",
      "1138/1138 [==============================] - 2s 2ms/step - loss: 0.4174 - acc: 0.8298 - val_loss: 0.4192 - val_acc: 0.8376\n",
      "Epoch 54/100\n",
      "1138/1138 [==============================] - 2s 2ms/step - loss: 0.4159 - acc: 0.8305 - val_loss: 0.4255 - val_acc: 0.8376\n",
      "Epoch 55/100\n",
      "1138/1138 [==============================] - 2s 2ms/step - loss: 0.4174 - acc: 0.8309 - val_loss: 0.4189 - val_acc: 0.8376\n",
      "Epoch 56/100\n",
      "1138/1138 [==============================] - 2s 2ms/step - loss: 0.4169 - acc: 0.8310 - val_loss: 0.4208 - val_acc: 0.8376\n",
      "Epoch 57/100\n",
      "1138/1138 [==============================] - 2s 2ms/step - loss: 0.4157 - acc: 0.8312 - val_loss: 0.4286 - val_acc: 0.8317\n",
      "Epoch 58/100\n",
      "1138/1138 [==============================] - 2s 2ms/step - loss: 0.4169 - acc: 0.8305 - val_loss: 0.4208 - val_acc: 0.8376\n",
      "Epoch 59/100\n",
      "1138/1138 [==============================] - 2s 2ms/step - loss: 0.4165 - acc: 0.8307 - val_loss: 0.4186 - val_acc: 0.8376\n",
      "Epoch 60/100\n",
      "1138/1138 [==============================] - 2s 2ms/step - loss: 0.4160 - acc: 0.8309 - val_loss: 0.4194 - val_acc: 0.8376\n",
      "Epoch 61/100\n"
     ]
    },
    {
     "name": "stdout",
     "output_type": "stream",
     "text": [
      "1138/1138 [==============================] - 2s 2ms/step - loss: 0.4157 - acc: 0.8319 - val_loss: 0.4209 - val_acc: 0.8376\n",
      "Epoch 62/100\n",
      "1138/1138 [==============================] - 2s 2ms/step - loss: 0.4175 - acc: 0.8310 - val_loss: 0.4409 - val_acc: 0.8367\n",
      "Epoch 63/100\n",
      "1138/1138 [==============================] - 2s 2ms/step - loss: 0.4167 - acc: 0.8312 - val_loss: 0.4240 - val_acc: 0.8376\n",
      "Epoch 64/100\n",
      "1138/1138 [==============================] - 2s 2ms/step - loss: 0.4161 - acc: 0.8312 - val_loss: 0.4344 - val_acc: 0.8376\n",
      "Epoch 65/100\n",
      "1138/1138 [==============================] - 2s 2ms/step - loss: 0.4169 - acc: 0.8312 - val_loss: 0.4194 - val_acc: 0.8376\n",
      "Epoch 66/100\n",
      "1138/1138 [==============================] - 2s 2ms/step - loss: 0.4171 - acc: 0.8312 - val_loss: 0.4202 - val_acc: 0.8376\n",
      "Epoch 67/100\n",
      "1138/1138 [==============================] - 2s 2ms/step - loss: 0.4175 - acc: 0.8305 - val_loss: 0.4185 - val_acc: 0.8376\n",
      "Epoch 68/100\n",
      "1138/1138 [==============================] - 2s 2ms/step - loss: 0.4168 - acc: 0.8309 - val_loss: 0.4211 - val_acc: 0.8376\n",
      "Epoch 69/100\n",
      "1138/1138 [==============================] - 2s 2ms/step - loss: 0.4149 - acc: 0.8302 - val_loss: 0.4183 - val_acc: 0.8376\n",
      "Epoch 70/100\n",
      "1138/1138 [==============================] - 2s 2ms/step - loss: 0.4178 - acc: 0.8309 - val_loss: 0.4186 - val_acc: 0.8376\n",
      "Epoch 71/100\n",
      "1138/1138 [==============================] - 2s 2ms/step - loss: 0.4158 - acc: 0.8303 - val_loss: 0.4206 - val_acc: 0.8376\n",
      "Epoch 72/100\n",
      "1138/1138 [==============================] - 2s 2ms/step - loss: 0.4164 - acc: 0.8307 - val_loss: 0.4188 - val_acc: 0.8376\n",
      "Epoch 73/100\n",
      "1138/1138 [==============================] - 2s 2ms/step - loss: 0.4159 - acc: 0.8302 - val_loss: 0.4321 - val_acc: 0.8376\n",
      "Epoch 74/100\n",
      "1138/1138 [==============================] - 2s 2ms/step - loss: 0.4156 - acc: 0.8312 - val_loss: 0.4184 - val_acc: 0.8376\n",
      "Epoch 75/100\n",
      "1138/1138 [==============================] - 2s 2ms/step - loss: 0.4167 - acc: 0.8316 - val_loss: 0.4192 - val_acc: 0.8376\n",
      "Epoch 76/100\n",
      "1138/1138 [==============================] - 2s 2ms/step - loss: 0.4156 - acc: 0.8300 - val_loss: 0.4210 - val_acc: 0.8376\n",
      "Epoch 77/100\n",
      "1138/1138 [==============================] - 2s 2ms/step - loss: 0.4167 - acc: 0.8305 - val_loss: 0.4204 - val_acc: 0.8376\n",
      "Epoch 78/100\n",
      "1138/1138 [==============================] - 2s 2ms/step - loss: 0.4169 - acc: 0.8307 - val_loss: 0.4183 - val_acc: 0.8376\n",
      "Epoch 79/100\n",
      "1138/1138 [==============================] - 2s 2ms/step - loss: 0.4169 - acc: 0.8300 - val_loss: 0.4368 - val_acc: 0.8386\n",
      "Epoch 80/100\n",
      "1138/1138 [==============================] - 2s 2ms/step - loss: 0.4153 - acc: 0.8325 - val_loss: 0.4575 - val_acc: 0.8058\n",
      "Epoch 81/100\n",
      "1138/1138 [==============================] - 2s 2ms/step - loss: 0.4173 - acc: 0.8310 - val_loss: 0.4209 - val_acc: 0.8376\n",
      "Epoch 82/100\n",
      "1138/1138 [==============================] - 2s 2ms/step - loss: 0.4167 - acc: 0.8309 - val_loss: 0.4339 - val_acc: 0.8376\n",
      "Epoch 83/100\n",
      "1138/1138 [==============================] - 2s 2ms/step - loss: 0.4164 - acc: 0.8303 - val_loss: 0.4188 - val_acc: 0.8376\n",
      "Epoch 84/100\n",
      "1138/1138 [==============================] - 2s 2ms/step - loss: 0.4168 - acc: 0.8309 - val_loss: 0.4190 - val_acc: 0.8376\n",
      "Epoch 85/100\n",
      "1138/1138 [==============================] - 2s 2ms/step - loss: 0.4166 - acc: 0.8303 - val_loss: 0.4199 - val_acc: 0.8376\n",
      "Epoch 86/100\n",
      "1138/1138 [==============================] - 2s 2ms/step - loss: 0.4169 - acc: 0.8305 - val_loss: 0.4235 - val_acc: 0.8376\n",
      "Epoch 87/100\n",
      "1138/1138 [==============================] - 2s 2ms/step - loss: 0.4161 - acc: 0.8307 - val_loss: 0.4240 - val_acc: 0.8376\n",
      "Epoch 88/100\n",
      "1138/1138 [==============================] - 2s 2ms/step - loss: 0.4159 - acc: 0.8316 - val_loss: 0.4179 - val_acc: 0.8376\n",
      "Epoch 89/100\n",
      "1138/1138 [==============================] - 2s 2ms/step - loss: 0.4171 - acc: 0.8305 - val_loss: 0.4201 - val_acc: 0.8376\n",
      "Epoch 90/100\n",
      "1138/1138 [==============================] - 2s 2ms/step - loss: 0.4153 - acc: 0.8307 - val_loss: 0.4206 - val_acc: 0.8376\n",
      "Epoch 91/100\n",
      "1138/1138 [==============================] - 2s 2ms/step - loss: 0.4161 - acc: 0.8309 - val_loss: 0.4506 - val_acc: 0.8147\n",
      "Epoch 92/100\n",
      "1138/1138 [==============================] - 2s 2ms/step - loss: 0.4151 - acc: 0.8307 - val_loss: 0.4237 - val_acc: 0.8376\n",
      "Epoch 93/100\n",
      "1138/1138 [==============================] - 2s 2ms/step - loss: 0.4157 - acc: 0.8310 - val_loss: 0.4195 - val_acc: 0.8376\n",
      "Epoch 94/100\n",
      "1138/1138 [==============================] - 2s 2ms/step - loss: 0.4136 - acc: 0.8300 - val_loss: 0.4253 - val_acc: 0.8376\n",
      "Epoch 95/100\n",
      "1138/1138 [==============================] - 2s 2ms/step - loss: 0.4155 - acc: 0.8309 - val_loss: 0.4189 - val_acc: 0.8376\n",
      "Epoch 96/100\n",
      "1138/1138 [==============================] - 2s 2ms/step - loss: 0.4155 - acc: 0.8314 - val_loss: 0.4188 - val_acc: 0.8376\n",
      "Epoch 97/100\n",
      "1138/1138 [==============================] - 2s 2ms/step - loss: 0.4157 - acc: 0.8307 - val_loss: 0.4176 - val_acc: 0.8376\n",
      "Epoch 98/100\n",
      "1138/1138 [==============================] - 2s 2ms/step - loss: 0.4148 - acc: 0.8305 - val_loss: 0.4349 - val_acc: 0.8367\n",
      "Epoch 99/100\n",
      "1138/1138 [==============================] - 2s 2ms/step - loss: 0.4150 - acc: 0.8310 - val_loss: 0.4191 - val_acc: 0.8376\n",
      "Epoch 100/100\n",
      "1138/1138 [==============================] - 2s 2ms/step - loss: 0.4160 - acc: 0.8314 - val_loss: 0.4196 - val_acc: 0.8376\n"
     ]
    },
    {
     "data": {
      "text/plain": [
       "<keras.callbacks.History at 0x1c3ed3f09d0>"
      ]
     },
     "execution_count": 50,
     "metadata": {},
     "output_type": "execute_result"
    }
   ],
   "source": [
    "model.fit(X_train,Y_train,epochs=100,batch_size=5,validation_data=(X_val,Y_val))"
   ]
  },
  {
   "cell_type": "code",
   "execution_count": 53,
   "metadata": {},
   "outputs": [
    {
     "name": "stdout",
     "output_type": "stream",
     "text": [
      "Model: \"sequential_4\"\n",
      "_________________________________________________________________\n",
      "Layer (type)                 Output Shape              Param #   \n",
      "=================================================================\n",
      "flatten_4 (Flatten)          (None, 5)                 0         \n",
      "_________________________________________________________________\n",
      "dense_8 (Dense)              (None, 64)                384       \n",
      "_________________________________________________________________\n",
      "dense_9 (Dense)              (None, 2)                 130       \n",
      "=================================================================\n",
      "Total params: 514\n",
      "Trainable params: 514\n",
      "Non-trainable params: 0\n",
      "_________________________________________________________________\n"
     ]
    }
   ],
   "source": [
    "model.summary()"
   ]
  },
  {
   "cell_type": "code",
   "execution_count": 54,
   "metadata": {},
   "outputs": [
    {
     "name": "stdout",
     "output_type": "stream",
     "text": [
      "24/24 [==============================] - 0s 2ms/step - loss: 0.4183 - acc: 0.8172\n",
      "Akurasi Testing ANN: 0.8172042965888977\n"
     ]
    }
   ],
   "source": [
    "from sklearn.metrics import confusion_matrix\n",
    "\n",
    "loss, accuracy = model.evaluate(X_test, Y_test)\n",
    "print('Akurasi Testing ANN:', accuracy)"
   ]
  },
  {
   "cell_type": "code",
   "execution_count": null,
   "metadata": {},
   "outputs": [],
   "source": []
  }
 ],
 "metadata": {
  "colab": {
   "collapsed_sections": [],
   "name": "Notebook DTS",
   "provenance": []
  },
  "kernelspec": {
   "display_name": "Python 3",
   "language": "python",
   "name": "python3"
  },
  "language_info": {
   "codemirror_mode": {
    "name": "ipython",
    "version": 3
   },
   "file_extension": ".py",
   "mimetype": "text/x-python",
   "name": "python",
   "nbconvert_exporter": "python",
   "pygments_lexer": "ipython3",
   "version": "3.8.5"
  }
 },
 "nbformat": 4,
 "nbformat_minor": 1
}
